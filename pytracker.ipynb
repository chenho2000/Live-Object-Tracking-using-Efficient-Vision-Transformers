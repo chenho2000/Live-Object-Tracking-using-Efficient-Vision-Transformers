{
 "cells": [
  {
   "cell_type": "code",
   "execution_count": null,
   "id": "3ecffe49",
   "metadata": {},
   "outputs": [],
   "source": [
    "import torch\n",
    "import torchinfo\n",
    "search = torch.rand(8, 3, 256, 256)\n",
    "template = torch.rand(8, 3, 128, 128)"
   ]
  },
  {
   "cell_type": "code",
   "execution_count": null,
   "id": "ef220f38",
   "metadata": {},
   "outputs": [],
   "source": [
    "from tracking.basic_model.et_tracker import ET_Tracker\n",
    "from tracking.basic_model.cmt_et_tracker import CMT_ET_Tracker\n",
    "from tracking.basic_model.wavelet_et_tracker import WAVE_ET_Tracker"
   ]
  },
  {
   "cell_type": "code",
   "execution_count": null,
   "id": "6f5263fc",
   "metadata": {},
   "outputs": [],
   "source": [
    "ettracker = ET_Tracker(linear_reg=True)\n",
    "cmttracker = CMT_ET_Tracker(linear_reg=True)\n",
    "wavetracker = WAVE_ET_Tracker(linear_reg=True)"
   ]
  },
  {
   "cell_type": "code",
   "execution_count": null,
   "id": "df6733a8",
   "metadata": {},
   "outputs": [],
   "source": [
    "torchinfo.summary(ettracker, input_size=((1, 3, 128, 128), (1, 3, 256, 256)))"
   ]
  },
  {
   "cell_type": "code",
   "execution_count": null,
   "id": "18fa4509",
   "metadata": {},
   "outputs": [],
   "source": [
    "torchinfo.summary(cmttracker, input_size=((1, 3, 128, 128), (1, 3, 256, 256)))"
   ]
  },
  {
   "cell_type": "code",
   "execution_count": null,
   "id": "129794ff",
   "metadata": {},
   "outputs": [],
   "source": [
    "torchinfo.summary(wavetracker, input_size=((1, 3, 128, 128), (1, 3, 256, 256)))"
   ]
  },
  {
   "cell_type": "code",
   "execution_count": null,
   "id": "6fcabdb4",
   "metadata": {},
   "outputs": [],
   "source": [
    "outputs={}\n",
    "\n",
    "ettracker.to(\"cpu\")\n",
    "\n",
    "for param in ettracker.parameters():\n",
    "    param.data = param.data.to(\"cpu\")\n",
    "\n",
    "outputs[\"et_output\"] = ettracker(template, search)\n",
    "\n",
    "cmttracker.to(\"cpu\")\n",
    "for param in cmttracker.parameters():\n",
    "    param.data = param.data.to(\"cpu\")\n",
    "    \n",
    "outputs[\"cmt_output\"] = cmttracker(template, search)\n",
    "\n",
    "wavetracker.to(\"cpu\")\n",
    "for param in wavetracker.parameters():\n",
    "    param.data = param.data.to(\"cpu\")\n",
    "    \n",
    "outputs[\"wave_output\"] = wavetracker(template, search)"
   ]
  },
  {
   "cell_type": "code",
   "execution_count": null,
   "id": "023e3176",
   "metadata": {},
   "outputs": [],
   "source": [
    "outputs.keys()"
   ]
  },
  {
   "cell_type": "code",
   "execution_count": null,
   "id": "b68008be",
   "metadata": {},
   "outputs": [],
   "source": [
    "for key, val in outputs.items():\n",
    "    print(f\"For Model {key}:\")\n",
    "    for item in val.values():\n",
    "        print(item.shape)"
   ]
  },
  {
   "cell_type": "code",
   "outputs": [],
   "source": [],
   "metadata": {
    "collapsed": false
   },
   "id": "b8e2e84ebaa33603",
   "execution_count": null
  },
  {
   "cell_type": "code",
   "outputs": [],
   "source": [],
   "metadata": {
    "collapsed": false
   },
   "id": "2aaf95698726cb2a"
  }
 ],
 "metadata": {
  "kernelspec": {
   "display_name": "Python 3 (ipykernel)",
   "language": "python",
   "name": "python3"
  },
  "language_info": {
   "codemirror_mode": {
    "name": "ipython",
    "version": 3
   },
   "file_extension": ".py",
   "mimetype": "text/x-python",
   "name": "python",
   "nbconvert_exporter": "python",
   "pygments_lexer": "ipython3",
   "version": "3.9.18"
  }
 },
 "nbformat": 4,
 "nbformat_minor": 5
}
